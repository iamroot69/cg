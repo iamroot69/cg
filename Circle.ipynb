{
 "cells": [
  {
   "cell_type": "code",
   "execution_count": 39,
   "metadata": {},
   "outputs": [
    {
     "name": "stdout",
     "output_type": "stream",
     "text": [
      "[-9, -6, -1, 6, -3, 8, 5, 6, 11]\n",
      "[0, 1, 2, 3, 4, 5, 6, 7, 8]\n",
      "[10, 10, 10, 10, 9, 9, 8, 7, 6]\n"
     ]
    }
   ],
   "source": [
    "r=10\n",
    "x=0\n",
    "y=0\n",
    "\n",
    "x=0\n",
    "y=r\n",
    "x_list=[]\n",
    "y_list=[]\n",
    "P_list=[]\n",
    "x_list.append(x)\n",
    "y_list.append(y)\n",
    "P=1-r\n",
    "P_list.append(P)\n",
    "while(x<=y):\n",
    "    if P<0:\n",
    "        P=P+2*x+3\n",
    "        x=x+1\n",
    "    else :\n",
    "        P=P+2*(x-y)+5\n",
    "        y=y-1\n",
    "        x=x+1\n",
    "    x_list.append(x)\n",
    "    y_list.append(y)\n",
    "    P_list.append(P)\n",
    "c=len(x_list)\n",
    "print(P_list)\n",
    "print(x_list)\n",
    "print(y_list)\n",
    "\n",
    "for i in range(c):\n",
    "    x_list.append(y_list[c-i-1])\n",
    "    y_list.append(x_list[c-i-1])\n",
    "\n",
    "for i in range(2*c):\n",
    "    x_list.append(x_list[2*c-i-1])\n",
    "    y_list.append(-y_list[2*c-i-1])\n",
    "\n",
    "for i in range(4*c):\n",
    "    x_list.append(-x_list[4*c-i-1])\n",
    "    y_list.append(y_list[4*c-i-1])"
   ]
  },
  {
   "cell_type": "code",
   "execution_count": 40,
   "metadata": {},
   "outputs": [
    {
     "data": {
      "text/plain": [
       "<matplotlib.collections.PathCollection at 0x7b5a53a34970>"
      ]
     },
     "execution_count": 40,
     "metadata": {},
     "output_type": "execute_result"
    },
    {
     "data": {
      "image/png": "[encoded data removed]",
      "text/plain": [
       "<Figure size 500x500 with 1 Axes>"
      ]
     },
     "metadata": {},
     "output_type": "display_data"
    }
   ],
   "source": [
    "import matplotlib.pyplot as plt\n",
    "plt.figure(figsize=(5,5))\n",
    "plt.scatter(x_list,y_list)"
   ]
  },
  {
   "cell_type": "code",
   "execution_count": null,
   "metadata": {},
   "outputs": [],
   "source": []
  }
 ],
 "metadata": {
  "kernelspec": {
   "display_name": "Python 3",
   "language": "python",
   "name": "python3"
  },
  "language_info": {
   "codemirror_mode": {
    "name": "ipython",
    "version": 3
   },
   "file_extension": ".py",
   "mimetype": "text/x-python",
   "name": "python",
   "nbconvert_exporter": "python",
   "pygments_lexer": "ipython3",
   "version": "3.10.12"
  }
 },
 "nbformat": 4,
 "nbformat_minor": 2
}
